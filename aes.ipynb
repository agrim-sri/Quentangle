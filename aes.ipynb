{
 "cells": [
  {
   "cell_type": "code",
   "execution_count": 1,
   "id": "3de84ce2-534c-4124-8d66-38ecbf1d3943",
   "metadata": {},
   "outputs": [
    {
     "name": "stdout",
     "output_type": "stream",
     "text": [
      "AES key (byte literal representation): b']\\x163\\x15hw\\xd1\\xd9\\xac4\\xc1\\xb4\\xf8\\xbc\\xde//j~\\xbc\\x06|\\xaf\\x88\\x17\\x83\\x06\\x8d\"J\\xb5\\xf3'\n"
     ]
    }
   ],
   "source": [
    "from Crypto.Cipher import AES\n",
    "from Crypto.Random import get_random_bytes\n",
    "from Crypto.Util.Padding import pad, unpad\n",
    "import binascii\n",
    "\n",
    "def generate_aes_key(key_size):\n",
    "    if key_size not in (128, 192, 256):\n",
    "        print(\"Invalid key size. Supported key sizes are 128, 192, and 256 bits.\")\n",
    "        return None\n",
    "    num_bytes = key_size // 8\n",
    "    random_bytes = get_random_bytes(num_bytes)\n",
    "    return random_bytes\n",
    "\n",
    "key_size = 256\n",
    "aes_key = generate_aes_key(key_size)\n",
    "\n",
    "print(f\"AES key (byte literal representation): {aes_key}\")"
   ]
  },
  {
   "cell_type": "code",
   "execution_count": 2,
   "id": "e08b93cf-364d-45f8-ae95-9d0924aaa420",
   "metadata": {},
   "outputs": [
    {
     "name": "stdin",
     "output_type": "stream",
     "text": [
      "Encrypted Message hi\n"
     ]
    },
    {
     "name": "stdout",
     "output_type": "stream",
     "text": [
      "Encrypted message (hexadecimal): b'H#\\x00~\\xee~\\x89#\\xee\\x1fe\\x1e \\x93SC'\n"
     ]
    }
   ],
   "source": [
    "# Input Message Encryption\n",
    "message = input(\"Encrypted Message\")\n",
    "message_bytes = message.encode()\n",
    "\n",
    "cipher = AES.new(aes_key, AES.MODE_ECB)\n",
    "padded_message = pad(message_bytes, AES.block_size)\n",
    "\n",
    "encrypted_message = cipher.encrypt(padded_message)\n",
    "\n",
    "print(f\"Encrypted message (hexadecimal): {encrypted_message}\")"
   ]
  },
  {
   "cell_type": "code",
   "execution_count": 3,
   "id": "081d7a1d-afbc-40fb-b409-8a9f6e952287",
   "metadata": {},
   "outputs": [
    {
     "name": "stdout",
     "output_type": "stream",
     "text": [
      "Decrypted message: hi\n"
     ]
    }
   ],
   "source": [
    "# Message Decryption\n",
    "decrypted_message_bytes = cipher.decrypt(encrypted_message)\n",
    "decrypted_message = unpad(decrypted_message_bytes, AES.block_size).decode()\n",
    "print(f\"Decrypted message: {decrypted_message}\")"
   ]
  },
  {
   "cell_type": "code",
   "execution_count": 1,
   "id": "50b9ab46-229e-4deb-9562-50f00e51c0e2",
   "metadata": {},
   "outputs": [
    {
     "name": "stdout",
     "output_type": "stream",
     "text": [
      "AES key: b'\\xea\\xec\\x8e\\xb8\\xf3\\x14\\x93\\xea\\xc3\\xcb\\r\\x01\\xc4d\\x95\\xf0N\\x81R}\\xdf\\x9d\\xf0\\x82?S\\t\\xd5\\xf7j\\x06W'\n",
      "Encrypted message: b'\\x8c\\x1es\\xc3\\x10\\xc3\\xd6\\xee\\xc3/\\x06 n\\xbe\\x80F\\x8c\\x1es\\xc3\\x10\\xc3\\xd6\\xee\\xc3/\\x06 n\\xbe\\x80F\\x8c\\x1es\\xc3\\x10\\xc3\\xd6\\xee\\xc3/\\x06 n\\xbe\\x80F\\x8c\\x1es\\xc3\\x10\\xc3\\xd6\\xee\\xc3/\\x06 n\\xbe\\x80F\\x8c\\x1es\\xc3\\x10\\xc3\\xd6\\xee\\xc3/\\x06 n\\xbe\\x80F\\x8c\\x1es\\xc3\\x10\\xc3\\xd6\\xee\\xc3/\\x06 n\\xbe\\x80F\\x8c\\x1es\\xc3\\x10\\xc3\\xd6\\xee\\xc3/\\x06 n\\xbe\\x80F\\x8c\\x1es\\xc3\\x10\\xc3\\xd6\\xee\\xc3/\\x06 n\\xbe\\x80F\\x8c\\x1es\\xc3\\x10\\xc3\\xd6\\xee\\xc3/\\x06 n\\xbe\\x80F\\x8c\\x1es\\xc3\\x10\\xc3\\xd6\\xee\\xc3/\\x06 n\\xbe\\x80F\\x8c\\x1es\\xc3\\x10\\xc3\\xd6\\xee\\xc3/\\x06 n\\xbe\\x80F\\x8c\\x1es\\xc3\\x10\\xc3\\xd6\\xee\\xc3/\\x06 n\\xbe\\x80F\\x8c\\x1es\\xc3\\x10\\xc3\\xd6\\xee\\xc3/\\x06 n\\xbe\\x80F\\x8c\\x1es\\xc3\\x10\\xc3\\xd6\\xee\\xc3/\\x06 n\\xbe\\x80F\\x8c\\x1es\\xc3\\x10\\xc3\\xd6\\xee\\xc3/\\x06 n\\xbe\\x80F\\x8c\\x1es\\xc3\\x10\\xc3\\xd6\\xee\\xc3/\\x06 n\\xbe\\x80F\\x8c\\x1es\\xc3\\x10\\xc3\\xd6\\xee\\xc3/\\x06 n\\xbe\\x80F\\x8c\\x1es\\xc3\\x10\\xc3\\xd6\\xee\\xc3/\\x06 n\\xbe\\x80F\\x8c\\x1es\\xc3\\x10\\xc3\\xd6\\xee\\xc3/\\x06 n\\xbe\\x80F\\x8c\\x1es\\xc3\\x10\\xc3\\xd6\\xee\\xc3/\\x06 n\\xbe\\x80F\\x8c\\x1es\\xc3\\x10\\xc3\\xd6\\xee\\xc3/\\x06 n\\xbe\\x80F\\x8c\\x1es\\xc3\\x10\\xc3\\xd6\\xee\\xc3/\\x06 n\\xbe\\x80F\\x8c\\x1es\\xc3\\x10\\xc3\\xd6\\xee\\xc3/\\x06 n\\xbe\\x80F\\x8c\\x1es\\xc3\\x10\\xc3\\xd6\\xee\\xc3/\\x06 n\\xbe\\x80F\\x8c\\x1es\\xc3\\x10\\xc3\\xd6\\xee\\xc3/\\x06 n\\xbe\\x80F\\x9fy\\xc8i\\x05\\xc3H*\\xda\\xc4\\x93w\\x03\\xd15\\x87'\n",
      "Decrypted message: testing testing testing testing testing testing testing testing testing testing testing testing testing testing testing testing testing testing testing testing testing testing testing testing testing testing testing testing testing testing testing testing testing testing testing testing testing testing testing testing testing testing testing testing testing testing testing testing testing testing \n"
     ]
    }
   ],
   "source": [
    "from Crypto.Cipher import AES\n",
    "from Crypto.Random import get_random_bytes\n",
    "from Crypto.Util.Padding import pad, unpad\n",
    "import binascii\n",
    "\n",
    "def generate_aes_key(key_size):\n",
    "    if key_size not in (128, 192, 256):\n",
    "        raise ValueError(\"Invalid key size.\")\n",
    "    num_bytes = key_size // 8\n",
    "    return get_random_bytes(num_bytes)\n",
    "\n",
    "def encrypt_message(aes_key, message):\n",
    "    cipher = AES.new(aes_key, AES.MODE_ECB)\n",
    "    padded_message = pad(message.encode(), AES.block_size)\n",
    "    return cipher.encrypt(padded_message)\n",
    "\n",
    "def decrypt_message(aes_key, encrypted_message):\n",
    "    cipher = AES.new(aes_key, AES.MODE_ECB)\n",
    "    decrypted_message_bytes = cipher.decrypt(encrypted_message)\n",
    "    return unpad(decrypted_message_bytes, AES.block_size).decode()\n",
    "\n",
    "key_size = 256\n",
    "aes_key = generate_aes_key(key_size)\n",
    "print(f\"AES key: {aes_key}\")\n",
    "\n",
    "message = \"testing \" * 50\n",
    "encrypted_message = encrypt_message(aes_key, message)\n",
    "print(f\"Encrypted message: {encrypted_message}\")\n",
    "\n",
    "decrypted_message = decrypt_message(aes_key, encrypted_message)\n",
    "print(f\"Decrypted message: {decrypted_message}\")"
   ]
  },
  {
   "cell_type": "code",
   "execution_count": null,
   "id": "f7436184-24de-46f0-af05-acdec8027694",
   "metadata": {},
   "outputs": [],
   "source": []
  }
 ],
 "metadata": {
  "kernelspec": {
   "display_name": "Python 3 (ipykernel)",
   "language": "python",
   "name": "python3"
  },
  "language_info": {
   "codemirror_mode": {
    "name": "ipython",
    "version": 3
   },
   "file_extension": ".py",
   "mimetype": "text/x-python",
   "name": "python",
   "nbconvert_exporter": "python",
   "pygments_lexer": "ipython3",
   "version": "3.11.4"
  }
 },
 "nbformat": 4,
 "nbformat_minor": 5
}
